{
 "cells": [
  {
   "cell_type": "code",
   "execution_count": 3,
   "metadata": {},
   "outputs": [
    {
     "name": "stdout",
     "output_type": "stream",
     "text": [
      "['ATG16L1', 'UCN', 'TNFSF18', 'TAGAP', 'SPRED1', 'SP140', 'IL23R', 'IRGM', 'ADAM30', 'CPEB4', 'CREB5', 'FASLG', 'FUT2', 'GPX4', 'HMHA1', 'IFNAR1', 'IFNGR2', 'IL31RA', 'IL6ST', 'JAZF1', 'LACC1', 'LGALS9', 'NOD2', 'NOS2', 'PTPN22', 'RASGRP1', 'RIPK2']\n"
     ]
    }
   ],
   "source": [
    "#Import required libraries\n",
    "import os\n",
    "import csv\n",
    "import numpy as np\n",
    "import pandas as pd\n",
    "from bioservices import PSICQUIC\n",
    "from bioservices.uniprot import UniProt\n",
    "u = UniProt(verbose=False)\n",
    "\n",
    "metaDir = os.path.join(os.path.dirname('__file__'), '..', 'metadata')\n",
    "\n",
    "# Genes list for Crohn's disease\n",
    "Genes = ['ATG16L1','IL23R', 'IRGM', 'ADAM30', 'CPEB4', 'CREB5', \n",
    "         'FASLG', 'FUT2', 'GPX4', 'HMHA1', 'IFNAR1', 'IFNGR2', \n",
    "         'IL31RA', 'IL6ST', 'JAZF1', 'LACC1', 'LGALS9', \n",
    "         'NOD2', 'NOS2', 'PTPN22', 'RASGRP1', 'RIPK2', \n",
    "         'SP140', 'SPRED1', 'TAGAP', 'TNFSF18', 'UCN']\n",
    "\n",
    "s = PSICQUIC(verbose=False)\n",
    "\n",
    "# Intersection for 2 lists\n",
    "def intersection(lst1, lst2): \n",
    "    lst3 = [value for value in lst1 if value in lst2] \n",
    "    return lst3 \n",
    "\n",
    "gdf = pd.read_excel(os.path.join(metaDir, 'Gene_Map.xlsx'), sheetname='Map')\n",
    "  \n",
    "    \n",
    "# Getting the Gene Map\n",
    "gene_id_list = list(gdf['GeneID'])\n",
    "gene_list_master = list(gdf['Gene'])"
   ]
  },
  {
   "cell_type": "code",
   "execution_count": 4,
   "metadata": {
    "collapsed": true
   },
   "outputs": [],
   "source": [
    "'''Collect Data for BioGrid Database'''\n",
    "def return_gene_id(gene_string):\n",
    "    gene_string = gene_string.replace('entrez gene/locuslink:','')\n",
    "    return gene_string\n",
    "\n",
    "\n",
    "gene_list = []\n",
    "for gene in Genes:\n",
    "    gene_list.append((str(gene)+\" AND species:9606\"))\n",
    "df = pd.DataFrame(columns=('Gene ID', 'Seed_Gene','GeneA','GeneB'))\n",
    "c=0\n",
    "j=0\n",
    "for gene in gene_list:\n",
    "    data = s.query(\"biogrid\", gene)\n",
    "    for row in data:\n",
    "        if(len(row) >= 2):\n",
    "            df.loc[c] = [j,Genes[j],return_gene_id(row[0]),return_gene_id(row[1])]\n",
    "            c+=1\n",
    "        \n",
    "    j+=1\n",
    "    \n",
    "df.to_csv('BioGrid.csv',encoding='utf8', index=False)"
   ]
  },
  {
   "cell_type": "code",
   "execution_count": 5,
   "metadata": {},
   "outputs": [
    {
     "name": "stdout",
     "output_type": "stream",
     "text": [
      "Total Number of Seed Genes found in BioGrid :  23\n",
      "Total Number of Interacting Proteins including Seed Genes :  713\n",
      "Total Number of Interactions found in BioGrid :  1132\n"
     ]
    }
   ],
   "source": [
    "df = pd.read_csv('BioGrid.csv')\n",
    "df = df[['Seed_Gene','GeneA','GeneB']]\n",
    "\n",
    "df = df.set_index('Seed_Gene')\n",
    "\n",
    "bioList = []\n",
    "bioList = df[\"GeneA\"]\n",
    "bioList = list(set(bioList.append(df[\"GeneB\"])))\n",
    "\n",
    "bioGeneList = []\n",
    "\n",
    "for gene_id in bioList:\n",
    "    if gene_id in gene_id_list:\n",
    "        bioGeneList.append(gene_id)\n",
    "            \n",
    "no_seed_gene_in_Bio = len(bioGeneList)\n",
    "\n",
    "a=set(df['GeneA'])\n",
    "\n",
    "a=list(a)\n",
    "\n",
    "b=set(df['GeneB'])\n",
    "\n",
    "b=list(b)\n",
    "\n",
    "a = np.asarray(a,dtype=np.character)\n",
    "b = np.asarray(b,dtype=np.character)\n",
    "\n",
    "lis = []\n",
    "\n",
    "for element in b:\n",
    "    if element not in a:\n",
    "        lis.append(element)\n",
    "b=np.asarray(lis,dtype=np.character)\n",
    "no_interacting_proteins = len(a)+len(b)\n",
    "\n",
    "# @TODO: Need to report intercom between non-seed genes\n",
    "print('Total Number of Seed Genes found in BioGrid : ',no_seed_gene_in_Bio)\n",
    "print('Total Number of Interacting Proteins including Seed Genes : ',no_interacting_proteins)\n",
    "print('Total Number of Interactions found in BioGrid : ',len(df))\n"
   ]
  },
  {
   "cell_type": "code",
   "execution_count": 6,
   "metadata": {},
   "outputs": [
    {
     "name": "stdout",
     "output_type": "stream",
     "text": [
      "Total Number of Seed Genes found in BioGrid :  26\n",
      "Total Number of Interacting Proteins including Seed Genes :  2379\n",
      "Total Number of Interactions found in BioGrid :  3844\n"
     ]
    }
   ],
   "source": [
    "# Collecting data from IID data base\n",
    "\n",
    "df = pd.read_csv('IID.csv')\n",
    "\n",
    "iiDList = []\n",
    "iiDList = df[\"symbol1\"]\n",
    "iiDList = list(set(iiDList.append(df[\"symbol2\"])))\n",
    "iiDGeneList = []\n",
    "\n",
    "for gene_id in iiDList:\n",
    "    if gene_id in gene_list_master:\n",
    "        iiDGeneList.append(gene_id)\n",
    "            \n",
    "no_seed_gene_in_Bio = len(iiDGeneList)\n",
    "\n",
    "a=set(df['symbol1'])\n",
    "a=list(a)\n",
    "b=set(df['symbol2'])\n",
    "b=list(b)\n",
    "a = np.asarray(a,dtype=np.character)\n",
    "b = np.asarray(b,dtype=np.character)\n",
    "lis = []\n",
    "for element in b:\n",
    "    if element not in a:\n",
    "        lis.append(element)\n",
    "b=np.asarray(lis,dtype=np.character)\n",
    "no_interacting_proteins = len(a)+len(b)\n",
    "\n",
    "# @TODO: Need to report intercom between non-seed genes\n",
    "print('Total Number of Seed Genes found in BioGrid : ',no_seed_gene_in_Bio)\n",
    "print('Total Number of Interacting Proteins including Seed Genes : ',no_interacting_proteins)\n",
    "print('Total Number of Interactions found in BioGrid : ',len(df))\n"
   ]
  }
 ],
 "metadata": {
  "anaconda-cloud": {},
  "kernelspec": {
   "display_name": "Python 3",
   "language": "python",
   "name": "python3"
  },
  "language_info": {
   "codemirror_mode": {
    "name": "ipython",
    "version": 3
   },
   "file_extension": ".py",
   "mimetype": "text/x-python",
   "name": "python",
   "nbconvert_exporter": "python",
   "pygments_lexer": "ipython3",
   "version": "3.6.3"
  }
 },
 "nbformat": 4,
 "nbformat_minor": 1
}
